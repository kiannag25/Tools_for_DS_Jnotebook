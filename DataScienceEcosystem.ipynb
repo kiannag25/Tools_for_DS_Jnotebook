{
 "cells": [
  {
   "cell_type": "markdown",
   "id": "43bb111b-9375-4a06-9125-6835b9dbb5d6",
   "metadata": {},
   "source": [
    "# Data Science Tools and Ecoystem "
   ]
  },
  {
   "cell_type": "markdown",
   "id": "d9f8c63d-a5f3-4cb4-9e92-18130469abd6",
   "metadata": {},
   "source": [
    "In this notebook, Data Science Tools and Ecosystem are summarized. \n"
   ]
  },
  {
   "cell_type": "markdown",
   "id": "e2438c98-ffb0-467d-bad2-64e038e09f5a",
   "metadata": {},
   "source": [
    "**Objectives:**\n"
   ]
  },
  {
   "cell_type": "markdown",
   "id": "d6ddfacc-d2cf-4aec-9d02-fd58254ccde4",
   "metadata": {},
   "source": [
    "- List popular languages for Data Science\n",
    "- List commonly used libraries for Data Science\n",
    "- List common open source tools used by Data Scientists\n",
    "- Provide examples of arithmetic expressions in Python"
   ]
  },
  {
   "cell_type": "markdown",
   "id": "cfebe9bf-8c30-4d58-8bdc-1badfbd42122",
   "metadata": {},
   "source": [
    "Some of the popular languages that Data Scientists use are: \n"
   ]
  },
  {
   "cell_type": "markdown",
   "id": "ac359b69-6dc2-460e-b22c-af8d0c4606dd",
   "metadata": {},
   "source": [
    "1. Python\n",
    "2. R\n",
    "3. SQL "
   ]
  },
  {
   "cell_type": "markdown",
   "id": "0790400f-4d5d-4817-a71a-b82122ab845c",
   "metadata": {},
   "source": [
    "Some of the commonly used libraries used by Data Scientists include: "
   ]
  },
  {
   "cell_type": "markdown",
   "id": "7c6bd8a6-a83f-4289-bdc7-21f8e299c10d",
   "metadata": {},
   "source": [
    "1. Pandas\n",
    "2. NumPy\n",
    "3. Matplotlib"
   ]
  },
  {
   "cell_type": "markdown",
   "id": "3b30b9b4-abb1-45d6-8849-5131a9dee3f3",
   "metadata": {},
   "source": [
    "| Data Science Tools|\n",
    "|-------------------|\n",
    "| Jupyter |\n",
    "| RStudio |\n",
    "| Watson Studio |"
   ]
  },
  {
   "cell_type": "markdown",
   "id": "ae0b61b0-d474-4e46-9458-f3fa1f88af09",
   "metadata": {},
   "source": [
    "### Below are a few examples of evaluating arithmetic expressions in Python. "
   ]
  },
  {
   "cell_type": "markdown",
   "id": "c17dc99b-757c-40e8-84be-c860994679c3",
   "metadata": {},
   "source": [
    "This is a simple arithmetic expression to multiply then add integers. "
   ]
  },
  {
   "cell_type": "code",
   "execution_count": 1,
   "id": "8b1297c8-1e90-4ecd-9fce-b25dc3f5feb0",
   "metadata": {
    "tags": []
   },
   "outputs": [
    {
     "data": {
      "text/plain": [
       "17"
      ]
     },
     "execution_count": 1,
     "metadata": {},
     "output_type": "execute_result"
    }
   ],
   "source": [
    "(3*4)+5"
   ]
  },
  {
   "cell_type": "markdown",
   "id": "ebca5ef1-4fe9-430a-9445-15fb71d8d0bb",
   "metadata": {},
   "source": [
    "This will convert 200 minutes to hours by dividing by 60."
   ]
  },
  {
   "cell_type": "code",
   "execution_count": 3,
   "id": "35a825c6-b59e-412f-ac18-fb10f21685ee",
   "metadata": {
    "tags": []
   },
   "outputs": [
    {
     "data": {
      "text/plain": [
       "3.3333333333333335"
      ]
     },
     "execution_count": 3,
     "metadata": {},
     "output_type": "execute_result"
    }
   ],
   "source": [
    "200/60"
   ]
  },
  {
   "cell_type": "markdown",
   "id": "1547d7eb-3370-4f0e-b434-53461a8e0e27",
   "metadata": {},
   "source": [
    "## Author"
   ]
  },
  {
   "cell_type": "markdown",
   "id": "8b6e9575-1951-4174-adb4-fc8094ef569f",
   "metadata": {},
   "source": [
    "Kianna Garcia"
   ]
  },
  {
   "cell_type": "code",
   "execution_count": null,
   "id": "7cc2d280-8681-480c-8f63-34eb0a66c4ff",
   "metadata": {},
   "outputs": [],
   "source": []
  }
 ],
 "metadata": {
  "kernelspec": {
   "display_name": "Python",
   "language": "python",
   "name": "conda-env-python-py"
  },
  "language_info": {
   "codemirror_mode": {
    "name": "ipython",
    "version": 3
   },
   "file_extension": ".py",
   "mimetype": "text/x-python",
   "name": "python",
   "nbconvert_exporter": "python",
   "pygments_lexer": "ipython3",
   "version": "3.7.12"
  }
 },
 "nbformat": 4,
 "nbformat_minor": 5
}
